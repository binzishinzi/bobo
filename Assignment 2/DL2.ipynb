{
  "nbformat": 4,
  "nbformat_minor": 0,
  "metadata": {
    "colab": {
      "provenance": []
    },
    "kernelspec": {
      "name": "python3",
      "display_name": "Python 3"
    },
    "language_info": {
      "name": "python"
    }
  },
  "cells": [
    {
      "cell_type": "code",
      "execution_count": 1,
      "metadata": {
        "id": "J4zWjzn2-MP8"
      },
      "outputs": [],
      "source": [
        "import numpy as np\n",
        "import matplotlib.pyplot as plt\n",
        "from tensorflow.keras.models import Sequential\n",
        "from tensorflow.keras.layers import Dense, Dropout\n",
        "from tensorflow.keras.optimizers import RMSprop\n",
        "from tensorflow.keras.datasets import mnist"
      ]
    },
    {
      "cell_type": "code",
      "source": [
        "# Load the MNIST dataset\n",
        "(x_train, y_train), (x_test, y_test) = mnist.load_data()"
      ],
      "metadata": {
        "id": "k-ACg0dADN41"
      },
      "execution_count": 2,
      "outputs": []
    },
    {
      "cell_type": "code",
      "source": [
        "# Loop through each digit (0-9)\n",
        "for digit in range(10):\n",
        "    # Find the first occurrence of each digit in the training dataset\n",
        "    index = np.where(y_train == digit)[0][0]\n",
        "\n",
        "    # Display the image for this digit\n",
        "    plt.subplot(1, 10, digit + 1)\n",
        "    plt.imshow(x_train[index], cmap='gray')\n",
        "    plt.title(f'{digit}')\n",
        "    plt.axis('off')  # Hide axis for a cleaner view\n",
        "\n",
        "# Show the plot with all digits\n",
        "plt.show()"
      ],
      "metadata": {
        "colab": {
          "base_uri": "https://localhost:8080/",
          "height": 101
        },
        "id": "JRcAwpvlG_Z-",
        "outputId": "564992f9-ac1b-4b7e-eafb-eebae3c966fc"
      },
      "execution_count": 3,
      "outputs": [
        {
          "output_type": "display_data",
          "data": {
            "text/plain": [
              "<Figure size 640x480 with 10 Axes>"
            ],
            "image/png": "[encoded data removed]"
          },
          "metadata": {}
        }
      ]
    },
    {
      "cell_type": "code",
      "source": [
        "# Normalize the image data to values between 0 and 1\n",
        "x_train = x_train.reshape(60000, 784).astype('float32') / 255\n",
        "x_test = x_test.reshape(10000, 784).astype('float32') / 255"
      ],
      "metadata": {
        "id": "KU5jgX0kF_aH"
      },
      "execution_count": 4,
      "outputs": []
    },
    {
      "cell_type": "code",
      "source": [
        "# One-hot encoding for labels\n",
        "y_train = np.eye(10)[y_train]\n",
        "y_test = np.eye(10)[y_test]"
      ],
      "metadata": {
        "id": "onUSMm16DSzF"
      },
      "execution_count": 5,
      "outputs": []
    },
    {
      "cell_type": "code",
      "source": [
        "# Define the model architecture\n",
        "model = Sequential([\n",
        "    Dense(512, activation='relu', input_shape=(784,)),\n",
        "    Dropout(0.2),\n",
        "    Dense(512, activation='relu'),\n",
        "    Dropout(0.2),\n",
        "    Dense(10, activation='softmax')\n",
        "])"
      ],
      "metadata": {
        "colab": {
          "base_uri": "https://localhost:8080/"
        },
        "id": "XkOKjMQVHoRw",
        "outputId": "9b59c0e5-4af7-4235-911a-7d007b6303fa"
      },
      "execution_count": 6,
      "outputs": [
        {
          "output_type": "stream",
          "name": "stderr",
          "text": [
            "/usr/local/lib/python3.11/dist-packages/keras/src/layers/core/dense.py:87: UserWarning: Do not pass an `input_shape`/`input_dim` argument to a layer. When using Sequential models, prefer using an `Input(shape)` object as the first layer in the model instead.\n",
            "  super().__init__(activity_regularizer=activity_regularizer, **kwargs)\n"
          ]
        }
      ]
    },
    {
      "cell_type": "code",
      "source": [
        "# Compile the model\n",
        "model.compile(loss='categorical_crossentropy', optimizer=RMSprop(), metrics=['accuracy'])"
      ],
      "metadata": {
        "id": "QRSnTUlzHqHI"
      },
      "execution_count": 7,
      "outputs": []
    },
    {
      "cell_type": "code",
      "source": [],
      "metadata": {
        "id": "ChD04kQ0H7vE"
      },
      "execution_count": 7,
      "outputs": []
    },
    {
      "cell_type": "code",
      "source": [
        "# Train the model\n",
        "model.fit(x_train, y_train, batch_size=128, epochs=20, validation_data=(x_test, y_test))"
      ],
      "metadata": {
        "colab": {
          "base_uri": "https://localhost:8080/"
        },
        "id": "uV7JWNqcHs44",
        "outputId": "9e4cf672-f3e5-44e6-b99a-d84974452ab5"
      },
      "execution_count": 8,
      "outputs": [
        {
          "output_type": "stream",
          "name": "stdout",
          "text": [
            "Epoch 1/20\n",
            "\u001b[1m469/469\u001b[0m \u001b[32m━━━━━━━━━━━━━━━━━━━━\u001b[0m\u001b[37m\u001b[0m \u001b[1m13s\u001b[0m 22ms/step - accuracy: 0.8591 - loss: 0.4456 - val_accuracy: 0.9627 - val_loss: 0.1120\n",
            "Epoch 2/20\n",
            "\u001b[1m469/469\u001b[0m \u001b[32m━━━━━━━━━━━━━━━━━━━━\u001b[0m\u001b[37m\u001b[0m \u001b[1m8s\u001b[0m 18ms/step - accuracy: 0.9671 - loss: 0.1084 - val_accuracy: 0.9735 - val_loss: 0.0876\n",
            "Epoch 3/20\n",
            "\u001b[1m469/469\u001b[0m \u001b[32m━━━━━━━━━━━━━━━━━━━━\u001b[0m\u001b[37m\u001b[0m \u001b[1m10s\u001b[0m 21ms/step - accuracy: 0.9776 - loss: 0.0722 - val_accuracy: 0.9724 - val_loss: 0.0921\n",
            "Epoch 4/20\n",
            "\u001b[1m469/469\u001b[0m \u001b[32m━━━━━━━━━━━━━━━━━━━━\u001b[0m\u001b[37m\u001b[0m \u001b[1m10s\u001b[0m 21ms/step - accuracy: 0.9821 - loss: 0.0575 - val_accuracy: 0.9778 - val_loss: 0.0762\n",
            "Epoch 5/20\n",
            "\u001b[1m469/469\u001b[0m \u001b[32m━━━━━━━━━━━━━━━━━━━━\u001b[0m\u001b[37m\u001b[0m \u001b[1m9s\u001b[0m 19ms/step - accuracy: 0.9848 - loss: 0.0458 - val_accuracy: 0.9800 - val_loss: 0.0669\n",
            "Epoch 6/20\n",
            "\u001b[1m469/469\u001b[0m \u001b[32m━━━━━━━━━━━━━━━━━━━━\u001b[0m\u001b[37m\u001b[0m \u001b[1m9s\u001b[0m 19ms/step - accuracy: 0.9875 - loss: 0.0390 - val_accuracy: 0.9788 - val_loss: 0.0729\n",
            "Epoch 7/20\n",
            "\u001b[1m469/469\u001b[0m \u001b[32m━━━━━━━━━━━━━━━━━━━━\u001b[0m\u001b[37m\u001b[0m \u001b[1m10s\u001b[0m 21ms/step - accuracy: 0.9885 - loss: 0.0369 - val_accuracy: 0.9817 - val_loss: 0.0735\n",
            "Epoch 8/20\n",
            "\u001b[1m469/469\u001b[0m \u001b[32m━━━━━━━━━━━━━━━━━━━━\u001b[0m\u001b[37m\u001b[0m \u001b[1m10s\u001b[0m 20ms/step - accuracy: 0.9910 - loss: 0.0279 - val_accuracy: 0.9822 - val_loss: 0.0687\n",
            "Epoch 9/20\n",
            "\u001b[1m469/469\u001b[0m \u001b[32m━━━━━━━━━━━━━━━━━━━━\u001b[0m\u001b[37m\u001b[0m \u001b[1m8s\u001b[0m 18ms/step - accuracy: 0.9919 - loss: 0.0246 - val_accuracy: 0.9821 - val_loss: 0.0673\n",
            "Epoch 10/20\n",
            "\u001b[1m469/469\u001b[0m \u001b[32m━━━━━━━━━━━━━━━━━━━━\u001b[0m\u001b[37m\u001b[0m \u001b[1m10s\u001b[0m 18ms/step - accuracy: 0.9926 - loss: 0.0225 - val_accuracy: 0.9803 - val_loss: 0.0836\n",
            "Epoch 11/20\n",
            "\u001b[1m469/469\u001b[0m \u001b[32m━━━━━━━━━━━━━━━━━━━━\u001b[0m\u001b[37m\u001b[0m \u001b[1m11s\u001b[0m 21ms/step - accuracy: 0.9935 - loss: 0.0196 - val_accuracy: 0.9852 - val_loss: 0.0649\n",
            "Epoch 12/20\n",
            "\u001b[1m469/469\u001b[0m \u001b[32m━━━━━━━━━━━━━━━━━━━━\u001b[0m\u001b[37m\u001b[0m \u001b[1m10s\u001b[0m 21ms/step - accuracy: 0.9946 - loss: 0.0165 - val_accuracy: 0.9819 - val_loss: 0.0793\n",
            "Epoch 13/20\n",
            "\u001b[1m469/469\u001b[0m \u001b[32m━━━━━━━━━━━━━━━━━━━━\u001b[0m\u001b[37m\u001b[0m \u001b[1m10s\u001b[0m 21ms/step - accuracy: 0.9949 - loss: 0.0154 - val_accuracy: 0.9834 - val_loss: 0.0712\n",
            "Epoch 14/20\n",
            "\u001b[1m469/469\u001b[0m \u001b[32m━━━━━━━━━━━━━━━━━━━━\u001b[0m\u001b[37m\u001b[0m \u001b[1m9s\u001b[0m 18ms/step - accuracy: 0.9954 - loss: 0.0156 - val_accuracy: 0.9834 - val_loss: 0.0690\n",
            "Epoch 15/20\n",
            "\u001b[1m469/469\u001b[0m \u001b[32m━━━━━━━━━━━━━━━━━━━━\u001b[0m\u001b[37m\u001b[0m \u001b[1m10s\u001b[0m 20ms/step - accuracy: 0.9958 - loss: 0.0134 - val_accuracy: 0.9830 - val_loss: 0.0788\n",
            "Epoch 16/20\n",
            "\u001b[1m469/469\u001b[0m \u001b[32m━━━━━━━━━━━━━━━━━━━━\u001b[0m\u001b[37m\u001b[0m \u001b[1m10s\u001b[0m 20ms/step - accuracy: 0.9959 - loss: 0.0117 - val_accuracy: 0.9827 - val_loss: 0.0905\n",
            "Epoch 17/20\n",
            "\u001b[1m469/469\u001b[0m \u001b[32m━━━━━━━━━━━━━━━━━━━━\u001b[0m\u001b[37m\u001b[0m \u001b[1m9s\u001b[0m 20ms/step - accuracy: 0.9960 - loss: 0.0116 - val_accuracy: 0.9840 - val_loss: 0.0789\n",
            "Epoch 18/20\n",
            "\u001b[1m469/469\u001b[0m \u001b[32m━━━━━━━━━━━━━━━━━━━━\u001b[0m\u001b[37m\u001b[0m \u001b[1m9s\u001b[0m 18ms/step - accuracy: 0.9962 - loss: 0.0117 - val_accuracy: 0.9846 - val_loss: 0.0721\n",
            "Epoch 19/20\n",
            "\u001b[1m469/469\u001b[0m \u001b[32m━━━━━━━━━━━━━━━━━━━━\u001b[0m\u001b[37m\u001b[0m \u001b[1m11s\u001b[0m 19ms/step - accuracy: 0.9964 - loss: 0.0100 - val_accuracy: 0.9849 - val_loss: 0.0718\n",
            "Epoch 20/20\n",
            "\u001b[1m469/469\u001b[0m \u001b[32m━━━━━━━━━━━━━━━━━━━━\u001b[0m\u001b[37m\u001b[0m \u001b[1m10s\u001b[0m 21ms/step - accuracy: 0.9969 - loss: 0.0092 - val_accuracy: 0.9847 - val_loss: 0.0744\n"
          ]
        },
        {
          "output_type": "execute_result",
          "data": {
            "text/plain": [
              "<keras.src.callbacks.history.History at 0x7aa4e1d617d0>"
            ]
          },
          "metadata": {},
          "execution_count": 8
        }
      ]
    },
    {
      "cell_type": "code",
      "source": [
        "# Evaluate the model\n",
        "score = model.evaluate(x_test, y_test, verbose=0)\n",
        "print('Test loss:', score[0])\n",
        "print('Test accuracy:', score[1])"
      ],
      "metadata": {
        "colab": {
          "base_uri": "https://localhost:8080/"
        },
        "id": "GiLUC30GHwAO",
        "outputId": "a005504f-de40-4758-fabb-6a17726b25b0"
      },
      "execution_count": 9,
      "outputs": [
        {
          "output_type": "stream",
          "name": "stdout",
          "text": [
            "Test loss: 0.07435020804405212\n",
            "Test accuracy: 0.9847000241279602\n"
          ]
        }
      ]
    },
    {
      "cell_type": "code",
      "source": [
        "import numpy as np\n",
        "import matplotlib.pyplot as plt\n",
        "from PIL import Image\n",
        "from tensorflow.keras.models import load_model\n",
        "\n",
        "# Load the trained model (replace with your actual model)\n",
        "# model = load_model('your_trained_model.h5')\n",
        "\n",
        "# Load and preprocess the PNG image\n",
        "def preprocess_image(image_path):\n",
        "    # Open the image\n",
        "    img = Image.open(image_path)\n",
        "\n",
        "    # Convert to grayscale (if not already in grayscale)\n",
        "    img = img.convert('L')\n",
        "\n",
        "    # Resize the image to 28x28 (for MNIST, adjust based on your dataset)\n",
        "    img = img.resize((28, 28))\n",
        "\n",
        "    # Convert to a numpy array and normalize the pixel values to [0, 1]\n",
        "    img_array = np.array(img) / 255.0\n",
        "\n",
        "    # Reshape the image to match the input shape (1, 784) for MNIST\n",
        "    img_array = img_array.reshape(1, 784)\n",
        "\n",
        "    return img_array\n",
        "\n",
        "# Path to the PNG image\n",
        "image_path = 'four.png'  # Update this with your actual image path\n",
        "\n",
        "# Preprocess the image\n",
        "processed_image = preprocess_image(image_path)\n",
        "\n",
        "# Predict the class using the trained model\n",
        "prediction = model.predict(processed_image)\n",
        "\n",
        "# Get the predicted class (index of the highest probability)\n",
        "predicted_class = np.argmax(prediction)\n",
        "\n",
        "# Display the image\n",
        "img = Image.open(image_path)\n",
        "plt.imshow(img, cmap='gray')\n",
        "plt.title(f\"Predicted Class: {predicted_class}\")\n",
        "plt.show()\n",
        "\n",
        "print(f\"Predicted Class: {predicted_class}\")\n"
      ],
      "metadata": {
        "colab": {
          "base_uri": "https://localhost:8080/",
          "height": 489
        },
        "id": "04hNjurVJOf3",
        "outputId": "b2c22554-6123-4bc0-e335-f0325a2bcd6b"
      },
      "execution_count": 10,
      "outputs": [
        {
          "output_type": "stream",
          "name": "stdout",
          "text": [
            "\u001b[1m1/1\u001b[0m \u001b[32m━━━━━━━━━━━━━━━━━━━━\u001b[0m\u001b[37m\u001b[0m \u001b[1m0s\u001b[0m 80ms/step\n"
          ]
        },
        {
          "output_type": "display_data",
          "data": {
            "text/plain": [
              "<Figure size 640x480 with 1 Axes>"
            ],
            "image/png": "[encoded data removed]"
          },
          "metadata": {}
        },
        {
          "output_type": "stream",
          "name": "stdout",
          "text": [
            "Predicted Class: 4\n"
          ]
        }
      ]
    }
  ]
}